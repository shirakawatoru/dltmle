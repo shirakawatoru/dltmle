{
 "cells": [
  {
   "cell_type": "code",
   "execution_count": null,
   "metadata": {},
   "outputs": [],
   "source": [
    "import numpy as np\n",
    "import dltmle"
   ]
  },
  {
   "cell_type": "code",
   "execution_count": null,
   "metadata": {},
   "outputs": [],
   "source": [
    "W, L, A, C, Y = dltmle.example_dgp(np.random.default_rng(0), 1000, 10)"
   ]
  },
  {
   "cell_type": "code",
   "execution_count": null,
   "metadata": {},
   "outputs": [],
   "source": [
    "hparams_candidates = {\n",
    "    'dim_emb': [8, 16],\n",
    "    'dim_emb_time': [4, 8],\n",
    "    'dim_emb_type': [4, 8],\n",
    "    'hidden_size': [8, 16, 32],\n",
    "    'num_layers': [1, 2, 4],\n",
    "    'nhead': [2, 4],\n",
    "    'dropout': [0, 0.1, 0.2],\n",
    "    'learning_rate': [1e-3, 5e-4, 1e-4, 5e-5],\n",
    "    'alpha': [0.05, 0.1, 0.5, 1],\n",
    "    'beta': [0.05, 0.1, 0.5, 1],\n",
    "    'max_epochs': [100],\n",
    "    'batch_size': [64],\n",
    "}"
   ]
  },
  {
   "cell_type": "code",
   "execution_count": null,
   "metadata": {},
   "outputs": [],
   "source": [
    "hparams = dltmle.tune(0, hparams_candidates, W, L, A, C, Y)\n",
    "hparams"
   ]
  },
  {
   "cell_type": "code",
   "execution_count": null,
   "metadata": {},
   "outputs": [],
   "source": [
    "hparams = {\n",
    "    'dim_emb': 16,\n",
    "    'dim_emb_time': 8,\n",
    "    'dim_emb_type': 8,\n",
    "    'hidden_size': 32,\n",
    "    'num_layers': 2,\n",
    "    'nhead': 8,\n",
    "    'dropout': 0.1,\n",
    "    'learning_rate': 1e-3,\n",
    "    'alpha': 0.1,\n",
    "    'beta': 0.1,\n",
    "    'max_epochs': 100,\n",
    "    'batch_size': 64,\n",
    "}"
   ]
  },
  {
   "cell_type": "code",
   "execution_count": null,
   "metadata": {},
   "outputs": [],
   "source": [
    "psi_0 = dltmle.fit(0, hparams, W, L, A, C, Y, np.zeros_like(A))\n",
    "psi_1 = dltmle.fit(0, hparams, W, L, A, C, Y, np.ones_like(A))"
   ]
  },
  {
   "cell_type": "code",
   "execution_count": null,
   "metadata": {},
   "outputs": [],
   "source": [
    "psi_0, psi_1"
   ]
  },
  {
   "cell_type": "code",
   "execution_count": null,
   "metadata": {},
   "outputs": [],
   "source": [
    "100 * psi_1"
   ]
  },
  {
   "cell_type": "code",
   "execution_count": null,
   "metadata": {},
   "outputs": [],
   "source": [
    "psi_1 - psi_0"
   ]
  },
  {
   "cell_type": "code",
   "execution_count": null,
   "metadata": {},
   "outputs": [],
   "source": [
    "psi_1 / psi_0"
   ]
  },
  {
   "cell_type": "code",
   "execution_count": null,
   "metadata": {},
   "outputs": [],
   "source": [
    "psi_0 * psi_1"
   ]
  },
  {
   "cell_type": "code",
   "execution_count": null,
   "metadata": {},
   "outputs": [],
   "source": [
    "(psi_1 / (1 - psi_1)) / (psi_0 / (1 - psi_0))"
   ]
  },
  {
   "cell_type": "code",
   "execution_count": null,
   "metadata": {},
   "outputs": [],
   "source": [
    "psi_1 * psi_0 / ((1 - psi_1) * (1 - psi_0)) * 100 + psi_1"
   ]
  },
  {
   "cell_type": "code",
   "execution_count": null,
   "metadata": {},
   "outputs": [],
   "source": [
    "large_n = int(1e6)\n",
    "psi0_0 = dltmle.example_dgp(np.random.default_rng(0), large_n, 10, a_cf=0)[-1][:,-1].mean()\n",
    "psi0_1 = dltmle.example_dgp(np.random.default_rng(0), large_n, 10, a_cf=1)[-1][:,-1].mean()\n",
    "psi0_0, psi0_1, psi0_1 - psi0_0, psi0_1 / psi0_0"
   ]
  },
  {
   "cell_type": "code",
   "execution_count": null,
   "metadata": {},
   "outputs": [],
   "source": []
  }
 ],
 "metadata": {
  "kernelspec": {
   "display_name": ".venv",
   "language": "python",
   "name": "python3"
  },
  "language_info": {
   "codemirror_mode": {
    "name": "ipython",
    "version": 3
   },
   "file_extension": ".py",
   "mimetype": "text/x-python",
   "name": "python",
   "nbconvert_exporter": "python",
   "pygments_lexer": "ipython3",
   "version": "3.9.6"
  }
 },
 "nbformat": 4,
 "nbformat_minor": 2
}
